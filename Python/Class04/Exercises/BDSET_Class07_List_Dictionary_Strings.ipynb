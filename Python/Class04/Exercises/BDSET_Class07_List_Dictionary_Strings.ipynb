{
  "nbformat": 4,
  "nbformat_minor": 0,
  "metadata": {
    "colab": {
      "provenance": [],
      "authorship_tag": "ABX9TyMxVflFz46Iu5JffrOX+Ezk",
      "include_colab_link": true
    },
    "kernelspec": {
      "name": "python3",
      "display_name": "Python 3"
    },
    "language_info": {
      "name": "python"
    }
  },
  "cells": [
    {
      "cell_type": "markdown",
      "metadata": {
        "id": "view-in-github",
        "colab_type": "text"
      },
      "source": [
        "<a href=\"https://colab.research.google.com/github/VelociRoughtor/BDSET-AI-Course/blob/main/BDSET_Class07_List_Dictionary_Strings.ipynb\" target=\"_parent\"><img src=\"https://colab.research.google.com/assets/colab-badge.svg\" alt=\"Open In Colab\"/></a>"
      ]
    },
    {
      "cell_type": "code",
      "execution_count": null,
      "metadata": {
        "colab": {
          "base_uri": "https://localhost:8080/"
        },
        "id": "jQD7KGJ7y0bV",
        "outputId": "045eefcf-def8-4a58-9b0d-26630c682a8a"
      },
      "outputs": [
        {
          "output_type": "stream",
          "name": "stdout",
          "text": [
            "20\n",
            "[13, 16]\n"
          ]
        }
      ],
      "source": [
        "myList = [12, 13, 16, 29, 20]\n",
        "print(myList[-1])\n",
        "print(myList[1:3])"
      ]
    },
    {
      "cell_type": "code",
      "source": [
        "myList.append(34)\n",
        "myList"
      ],
      "metadata": {
        "colab": {
          "base_uri": "https://localhost:8080/"
        },
        "id": "Z143tvf-1apn",
        "outputId": "55829386-4dd9-4a50-fcd6-2c9bef13d549"
      },
      "execution_count": null,
      "outputs": [
        {
          "output_type": "execute_result",
          "data": {
            "text/plain": [
              "[12, 13, 16, 29, 20, 34]"
            ]
          },
          "metadata": {},
          "execution_count": 14
        }
      ]
    },
    {
      "cell_type": "code",
      "source": [
        "myList.insert(1, 5)\n",
        "myList"
      ],
      "metadata": {
        "colab": {
          "base_uri": "https://localhost:8080/"
        },
        "id": "35fG0f011lY2",
        "outputId": "b6cdeca7-34ab-42a0-87f8-a51a4296da66"
      },
      "execution_count": null,
      "outputs": [
        {
          "output_type": "execute_result",
          "data": {
            "text/plain": [
              "[12, 5, 16, 29, 20, 34]"
            ]
          },
          "metadata": {},
          "execution_count": 18
        }
      ]
    },
    {
      "cell_type": "code",
      "source": [
        "del myList[1]\n",
        "myList"
      ],
      "metadata": {
        "colab": {
          "base_uri": "https://localhost:8080/"
        },
        "id": "IBGcpWIL1wUX",
        "outputId": "c0e35dbb-8d4d-4e43-89f5-38faa873516a"
      },
      "execution_count": null,
      "outputs": [
        {
          "output_type": "execute_result",
          "data": {
            "text/plain": [
              "[12, 16, 29, 20, 34]"
            ]
          },
          "metadata": {},
          "execution_count": 20
        }
      ]
    },
    {
      "cell_type": "code",
      "source": [
        "myList.remove(12)\n",
        "myList"
      ],
      "metadata": {
        "colab": {
          "base_uri": "https://localhost:8080/"
        },
        "id": "_QTVNV6s1-7v",
        "outputId": "fe68f8c2-aa67-42e2-eed4-30f8ef10bf9b"
      },
      "execution_count": null,
      "outputs": [
        {
          "output_type": "execute_result",
          "data": {
            "text/plain": [
              "[16, 29, 20, 34]"
            ]
          },
          "metadata": {},
          "execution_count": 22
        }
      ]
    },
    {
      "cell_type": "code",
      "source": [
        "collect = {}\n",
        "print(type(collect)) # dictionary has higher priority over sets"
      ],
      "metadata": {
        "colab": {
          "base_uri": "https://localhost:8080/"
        },
        "id": "XkiQQWinzhoH",
        "outputId": "901100de-8cd5-4e32-b233-b79922a8f175"
      },
      "execution_count": null,
      "outputs": [
        {
          "output_type": "stream",
          "name": "stdout",
          "text": [
            "<class 'dict'>\n"
          ]
        }
      ]
    },
    {
      "cell_type": "code",
      "source": [
        "collect = {\"Student Name\" : \"Nafeez Iqbal\", \"Age\" : 12, \"Gender\" : \"Male\"}\n",
        "collect"
      ],
      "metadata": {
        "colab": {
          "base_uri": "https://localhost:8080/"
        },
        "id": "qnJQNcVBz3mw",
        "outputId": "83620df5-19b5-4a8c-a442-3bce7b4cde80"
      },
      "execution_count": null,
      "outputs": [
        {
          "output_type": "execute_result",
          "data": {
            "text/plain": [
              "{'Student Name': 'Nafeez Iqbal', 'Age': 12, 'Gender': 'Male'}"
            ]
          },
          "metadata": {},
          "execution_count": 9
        }
      ]
    },
    {
      "cell_type": "code",
      "source": [
        "collect[\"Age\"]"
      ],
      "metadata": {
        "colab": {
          "base_uri": "https://localhost:8080/"
        },
        "id": "a1fhBOyF0PeY",
        "outputId": "c84c3f11-9597-4207-9027-5364bd2f3e3b"
      },
      "execution_count": null,
      "outputs": [
        {
          "output_type": "execute_result",
          "data": {
            "text/plain": [
              "12"
            ]
          },
          "metadata": {},
          "execution_count": 11
        }
      ]
    },
    {
      "cell_type": "code",
      "source": [
        "collect.keys()"
      ],
      "metadata": {
        "colab": {
          "base_uri": "https://localhost:8080/"
        },
        "id": "6hIawNwD0xKe",
        "outputId": "17fbddb5-5f9f-469c-d1b4-8f8710371dfe"
      },
      "execution_count": null,
      "outputs": [
        {
          "output_type": "execute_result",
          "data": {
            "text/plain": [
              "dict_keys(['Student Name', 'Age', 'Gender'])"
            ]
          },
          "metadata": {},
          "execution_count": 12
        }
      ]
    },
    {
      "cell_type": "code",
      "source": [
        "collect.values()"
      ],
      "metadata": {
        "colab": {
          "base_uri": "https://localhost:8080/"
        },
        "id": "tri803OY00e1",
        "outputId": "b5421a66-9d72-4013-dfb8-c99d40c1efca"
      },
      "execution_count": null,
      "outputs": [
        {
          "output_type": "execute_result",
          "data": {
            "text/plain": [
              "dict_values(['Nafeez Iqbal', 12, 'Male'])"
            ]
          },
          "metadata": {},
          "execution_count": 13
        }
      ]
    },
    {
      "cell_type": "code",
      "source": [
        "collect[\"City\"] = \"Dhaka\"\n",
        "collect"
      ],
      "metadata": {
        "colab": {
          "base_uri": "https://localhost:8080/"
        },
        "id": "DJ6qLB8o1MV9",
        "outputId": "cea1b3db-7248-49a1-8b80-becf8ce0342a"
      },
      "execution_count": null,
      "outputs": [
        {
          "output_type": "execute_result",
          "data": {
            "text/plain": [
              "{'Student Name': 'Nafeez Iqbal', 'Age': 12, 'Gender': 'Male', 'City': 'Dhaka'}"
            ]
          },
          "metadata": {},
          "execution_count": 24
        }
      ]
    },
    {
      "cell_type": "code",
      "source": [
        "collect.pop(\"Gender\")\n",
        "collect"
      ],
      "metadata": {
        "colab": {
          "base_uri": "https://localhost:8080/"
        },
        "id": "rXVLhgkD2TNZ",
        "outputId": "a521e05f-2208-442c-9173-26ab554abb4b"
      },
      "execution_count": null,
      "outputs": [
        {
          "output_type": "execute_result",
          "data": {
            "text/plain": [
              "{'Student Name': 'Nafeez Iqbal', 'Age': 12, 'City': 'Dhaka'}"
            ]
          },
          "metadata": {},
          "execution_count": 25
        }
      ]
    },
    {
      "cell_type": "code",
      "source": [
        "Students = {'StudentNames' : ['Mahim', 'Chor', 'Bichi', 'Mosa'], 'Age' : [58, 29, 34, 51], 'City' : ['Dinajpur', 'Sylhet', 'Sirajganj', 'Kishoreganj']}\n",
        "Students\n",
        "Students['StudentNames'][1]"
      ],
      "metadata": {
        "colab": {
          "base_uri": "https://localhost:8080/",
          "height": 35
        },
        "id": "gWLAD5xQ4LBA",
        "outputId": "445a9040-25d3-4a0c-a94d-cfe2e6f65ded"
      },
      "execution_count": null,
      "outputs": [
        {
          "output_type": "execute_result",
          "data": {
            "text/plain": [
              "'Chor'"
            ],
            "application/vnd.google.colaboratory.intrinsic+json": {
              "type": "string"
            }
          },
          "metadata": {},
          "execution_count": 29
        }
      ]
    },
    {
      "cell_type": "code",
      "source": [
        "for name in Students['StudentNames']:\n",
        "  if (name == 'Chor'):\n",
        "    print('Plabon '+ name)\n",
        "  elif (name == 'Bichi'):\n",
        "    print('Shoreful ' + name)\n",
        "  else:\n",
        "    print(name)"
      ],
      "metadata": {
        "colab": {
          "base_uri": "https://localhost:8080/"
        },
        "id": "o1wVEwV847c3",
        "outputId": "edf79e0f-8abf-46e1-ed89-f54cd076ab8f"
      },
      "execution_count": null,
      "outputs": [
        {
          "output_type": "stream",
          "name": "stdout",
          "text": [
            "Mahim\n",
            "Plabon Chor\n",
            "Shoreful Bichi\n",
            "Mosa\n"
          ]
        }
      ]
    },
    {
      "cell_type": "code",
      "source": [
        "for data in Students:\n",
        "  print(data)\n",
        "  m = len(data)\n",
        "  for i in range(m):\n",
        "    print('-',end='')\n",
        "  print()\n",
        "  for idx in Students[data]:\n",
        "    print(idx)\n",
        "  print()"
      ],
      "metadata": {
        "colab": {
          "base_uri": "https://localhost:8080/"
        },
        "id": "hMfSl5S66U8A",
        "outputId": "4d699cce-ec64-4ab6-d7d3-51672415694e"
      },
      "execution_count": null,
      "outputs": [
        {
          "output_type": "stream",
          "name": "stdout",
          "text": [
            "StudentNames\n",
            "------------\n",
            "Mahim\n",
            "Chor\n",
            "Bichi\n",
            "Mosa\n",
            "\n",
            "Age\n",
            "---\n",
            "58\n",
            "29\n",
            "34\n",
            "51\n",
            "\n",
            "City\n",
            "----\n",
            "Dinajpur\n",
            "Sylhet\n",
            "Sirajganj\n",
            "Kishoreganj\n",
            "\n"
          ]
        }
      ]
    },
    {
      "cell_type": "code",
      "source": [
        "list1 = [1, 2, 3]\n",
        "list2 = [2, 3, 4]\n",
        "list3 = [7, 8]\n",
        "ConcatenatedList = list1 + list2\n",
        "ConcatenatedList"
      ],
      "metadata": {
        "colab": {
          "base_uri": "https://localhost:8080/"
        },
        "id": "Gk-T94xd8Z8A",
        "outputId": "ef6a3d34-53ec-4cc0-a03c-fecb6ac2f717"
      },
      "execution_count": null,
      "outputs": [
        {
          "output_type": "execute_result",
          "data": {
            "text/plain": [
              "[1, 2, 3, 2, 3, 4]"
            ]
          },
          "metadata": {},
          "execution_count": 47
        }
      ]
    },
    {
      "cell_type": "code",
      "source": [
        "listOfList = [list1, list2, list3]\n",
        "listOfList"
      ],
      "metadata": {
        "colab": {
          "base_uri": "https://localhost:8080/"
        },
        "id": "2Tb_FlQb9MOZ",
        "outputId": "d01e8ec8-404a-4ca5-b974-3e54db6d0c63"
      },
      "execution_count": null,
      "outputs": [
        {
          "output_type": "execute_result",
          "data": {
            "text/plain": [
              "[[1, 2, 3], [2, 3, 4], [7, 8]]"
            ]
          },
          "metadata": {},
          "execution_count": 48
        }
      ]
    },
    {
      "cell_type": "code",
      "source": [
        "for i in range(len(listOfList)):\n",
        "  print(f\"idx = {i}\")\n",
        "  for j in range(len(listOfList[i])):\n",
        "    print(listOfList[i][j])\n"
      ],
      "metadata": {
        "colab": {
          "base_uri": "https://localhost:8080/"
        },
        "id": "s_gwi0o69pjJ",
        "outputId": "b0effdd4-d95b-450c-919e-d518dfa530a4"
      },
      "execution_count": null,
      "outputs": [
        {
          "output_type": "stream",
          "name": "stdout",
          "text": [
            "idx = 0\n",
            "1\n",
            "2\n",
            "3\n",
            "idx = 1\n",
            "2\n",
            "3\n",
            "4\n",
            "idx = 2\n",
            "7\n",
            "8\n"
          ]
        }
      ]
    },
    {
      "cell_type": "code",
      "source": [
        "# Task 1\n",
        "# Find the minimum, maximum, sum, and average of a given list\n",
        "# The list must not have any duplicates\n",
        "# Can't use set\n",
        "\n",
        "def search(newList, val):\n",
        "  for i in range(len(newList)):\n",
        "    if (newList[i] == val):\n",
        "      return False\n",
        "  return True\n",
        "\n",
        "def Characteristics(newList):\n",
        "  sum = 0\n",
        "  minimum = newList[0]\n",
        "  maximum = newList[0]\n",
        "  for i in range(len(newList)):\n",
        "    sum += newList[i]\n",
        "    if newList[i] < minimum:\n",
        "      minimum = newList[i]\n",
        "    if newList[i] > maximum:\n",
        "      maximum = newList[i]\n",
        "  average = sum / len(newList)\n",
        "  characteristics = {'Minimum' : minimum, 'Maximum' : maximum, 'Sum' : sum, 'Average' : average}\n",
        "  return characteristics\n",
        "\n",
        "newList = []\n",
        "m = int(input())\n",
        "for i in range(m):\n",
        "  val = int(input())\n",
        "  if (search(newList, val)):\n",
        "    newList.append(val)\n",
        "print(newList)\n",
        "\n",
        "characteristics = Characteristics(newList)\n",
        "print(characteristics)\n",
        "\n"
      ],
      "metadata": {
        "colab": {
          "base_uri": "https://localhost:8080/"
        },
        "id": "2KFhyNo6HDAJ",
        "outputId": "825f0445-0106-4c10-e133-48559bf81f2a"
      },
      "execution_count": null,
      "outputs": [
        {
          "output_type": "stream",
          "name": "stdout",
          "text": [
            "10\n",
            "1 \n",
            "3\n",
            "3\n",
            "2\n",
            "4\n",
            "7\n",
            "2\n",
            "4\n",
            "2\n",
            "4\n",
            "[1, 3, 2, 4, 7]\n",
            "{'Minimum': 1, 'Maximum': 7, 'Sum': 17, 'Average': 3.4}\n"
          ]
        }
      ]
    },
    {
      "cell_type": "code",
      "source": [
        "# Task 2\n",
        "# Create a dictionary\n",
        "# Update Price\n",
        "# Add Publication Year\n",
        "# Remove Author\n",
        "\n",
        "Book = {'Title' : 'Introduction to Python', 'Author' : 'Steve Robinson', 'Price' : '$39'}\n",
        "Book['Price'] = '$35'\n",
        "Book['PublicationYear'] = 2009\n",
        "Book.pop('Author')\n",
        "Book"
      ],
      "metadata": {
        "colab": {
          "base_uri": "https://localhost:8080/"
        },
        "id": "AijSdS4VLfRb",
        "outputId": "c233f266-b270-4b52-eb53-752fde51f987"
      },
      "execution_count": null,
      "outputs": [
        {
          "output_type": "execute_result",
          "data": {
            "text/plain": [
              "{'Title': 'Introduction to Python', 'Price': '$35', 'PublicationYear': 2009}"
            ]
          },
          "metadata": {},
          "execution_count": 82
        }
      ]
    },
    {
      "cell_type": "code",
      "source": [
        "# Task 3\n",
        "# Merge two dictionary\n",
        "# Dictionary can't have any duplicates\n",
        "\n",
        "dic1 = {'a' : 100, 'b' : 200, 'c' : 300}\n",
        "dic2 = {'c' : 300, 'd' : 200, 'e' : 400}\n",
        "dic3 = dic1.copy()\n",
        "for key in dic2:\n",
        "  if key in dic3:\n",
        "    dic3[key] += dic2[key]\n",
        "  else:\n",
        "    dic3[key] = dic2[key]\n",
        "dic3"
      ],
      "metadata": {
        "colab": {
          "base_uri": "https://localhost:8080/"
        },
        "id": "ypZlK-KBPEoM",
        "outputId": "4b255869-e5bb-4c79-bad1-1f81d1bb6245"
      },
      "execution_count": null,
      "outputs": [
        {
          "output_type": "execute_result",
          "data": {
            "text/plain": [
              "{'a': 100, 'b': 200, 'c': 600, 'd': 200, 'e': 400}"
            ]
          },
          "metadata": {},
          "execution_count": 66
        }
      ]
    },
    {
      "cell_type": "code",
      "source": [
        "# Task 4\n",
        "# Sort a list\n",
        "# Remove the duplicate elements\n",
        "\n",
        "def remove_duplicate(myList):\n",
        "  newList = []\n",
        "  for i in range(len(myList) - 1):\n",
        "    if myList[i] != myList[i + 1]:\n",
        "      newList.append(myList[i])\n",
        "  newList.append(myList[-1])\n",
        "  return newList\n",
        "\n",
        "myList = [1, 4, 2, 3, 2, 2, 4, 6, 10, 3, 9, 10, 9]\n",
        "for i in range(len(myList) - 1):\n",
        "  for j in range(i + 1, len(myList)):\n",
        "    if (myList[j] < myList[i]):\n",
        "      temp = myList[i]\n",
        "      myList[i] = myList[j]\n",
        "      myList[j] = temp\n",
        "newList = remove_duplicate(myList)\n",
        "print(f\"My List = {myList}\")\n",
        "print(f\"My List after removing duplicates = {newList}\")"
      ],
      "metadata": {
        "colab": {
          "base_uri": "https://localhost:8080/"
        },
        "id": "Il8PXdnFQ_1l",
        "outputId": "de1dff2f-9cfe-452e-eafa-28f18b45c973"
      },
      "execution_count": null,
      "outputs": [
        {
          "output_type": "stream",
          "name": "stdout",
          "text": [
            "My List = [1, 2, 2, 2, 3, 3, 4, 4, 6, 9, 9, 10, 10]\n",
            "My List after removing duplicates = [1, 2, 3, 4, 6, 9, 10]\n"
          ]
        }
      ]
    }
  ]
}
