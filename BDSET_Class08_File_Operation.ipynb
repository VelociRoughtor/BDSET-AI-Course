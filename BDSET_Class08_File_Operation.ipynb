{
  "nbformat": 4,
  "nbformat_minor": 0,
  "metadata": {
    "colab": {
      "provenance": [],
      "toc_visible": true,
      "authorship_tag": "ABX9TyOVYAhCA2P7uqK68WLxwzxS",
      "include_colab_link": true
    },
    "kernelspec": {
      "name": "python3",
      "display_name": "Python 3"
    },
    "language_info": {
      "name": "python"
    }
  },
  "cells": [
    {
      "cell_type": "markdown",
      "metadata": {
        "id": "view-in-github",
        "colab_type": "text"
      },
      "source": [
        "<a href=\"https://colab.research.google.com/github/VelociRoughtor/BDSET-AI-Course/blob/main/BDSET_Class08_File_Operation.ipynb\" target=\"_parent\"><img src=\"https://colab.research.google.com/assets/colab-badge.svg\" alt=\"Open In Colab\"/></a>"
      ]
    },
    {
      "cell_type": "markdown",
      "source": [
        "# Opening a file\n",
        "**Syntax for opening a file**\n",
        "\n",
        "---\n",
        "\n",
        "\n",
        "file = open(\"filename.txt\", \"mode\")\n",
        "\n",
        "we can put these instead of mode in the syntax above:\n",
        "\n",
        "\n",
        "1.   \"r\" - read file. file must exist.\n",
        "  \n",
        "2.   \"w\" - creates a new  file\n",
        "\n",
        "3.   \"a\" - appends at the last\n",
        "\n",
        "\n",
        "\n",
        "\n"
      ],
      "metadata": {
        "id": "L3ylx9d5WKlw"
      }
    },
    {
      "cell_type": "code",
      "source": [
        "from google.colab import drive\n",
        "drive.mount(\"/content/drive\")"
      ],
      "metadata": {
        "colab": {
          "base_uri": "https://localhost:8080/"
        },
        "id": "3Lhx1Iv5XZEY",
        "outputId": "795f4e07-6300-4403-d20d-ea354b8b10ad"
      },
      "execution_count": null,
      "outputs": [
        {
          "output_type": "stream",
          "name": "stdout",
          "text": [
            "Mounted at /content/drive\n"
          ]
        }
      ]
    },
    {
      "cell_type": "code",
      "source": [
        "from pathlib import Path\n",
        "cfile = Path(\"/content/drive/MyDrive/Colab Notebooks/file.txt\") # create file in drive directory\n",
        "cfile.touch(exist_ok=True) # create file if it doesn't exist"
      ],
      "metadata": {
        "id": "M2DsjBggYFNf"
      },
      "execution_count": null,
      "outputs": []
    },
    {
      "cell_type": "code",
      "source": [
        "with open(\"/content/drive/MyDrive/Colab Notebooks/file.txt\", \"w+\") as file:\n",
        "  file.write(\"Hello, this is a test file.\\n\")\n",
        "  file.write(\"We are learning Python File Handling\\n\")\n",
        "  file.write(\"Will it write at the beginning?\\n\")\n",
        "  file.seek(0) # Move the file pointer to the beginning of the file\n",
        "  content = file.read()\n",
        "print(content)"
      ],
      "metadata": {
        "colab": {
          "base_uri": "https://localhost:8080/"
        },
        "id": "_1ttYJibarN4",
        "outputId": "ffda4231-9a5b-48a1-efad-413eb56b7e3c"
      },
      "execution_count": null,
      "outputs": [
        {
          "output_type": "stream",
          "name": "stdout",
          "text": [
            "Hello, this is a test file.\n",
            "We are learning Python File Handling\n",
            "Will it write at the beginning?\n",
            "\n"
          ]
        }
      ]
    },
    {
      "cell_type": "code",
      "source": [
        "with open(\"/content/drive/MyDrive/Colab Notebooks/file.txt\", \"a+\") as file:\n",
        "  file.write(\"Hello, this is a test file.\\n\")\n",
        "  file.write(\"We are learning Python File Handling\\n\")\n",
        "  file.seek(0)\n",
        "  content = file.read()\n",
        "print(content)"
      ],
      "metadata": {
        "colab": {
          "base_uri": "https://localhost:8080/"
        },
        "id": "69ANfxfRdYaH",
        "outputId": "08684162-91b3-41ec-ef5d-62f3f78697fb"
      },
      "execution_count": null,
      "outputs": [
        {
          "output_type": "stream",
          "name": "stdout",
          "text": [
            "Hello, this is a test file.\n",
            "We are learning Python File Handling\n",
            "Hello, this is a test file.\n",
            "We are learning Python File Handling\n",
            "\n"
          ]
        }
      ]
    },
    {
      "cell_type": "code",
      "source": [
        "myfilePath = \"/content/drive/MyDrive/Colab Notebooks/file.txt\""
      ],
      "metadata": {
        "id": "xAw5M44ygYy4"
      },
      "execution_count": null,
      "outputs": []
    },
    {
      "cell_type": "code",
      "source": [
        "from pathlib import Path\n",
        "file_path = Path(myfilePath)\n",
        "if file_path.exists():\n",
        "  print(\"File exists\")\n",
        "else:\n",
        "  print(\"File does not exist\")"
      ],
      "metadata": {
        "colab": {
          "base_uri": "https://localhost:8080/"
        },
        "id": "hmbTTFOaeuw3",
        "outputId": "3658856a-64da-4860-a5f3-1093810f7bee"
      },
      "execution_count": null,
      "outputs": [
        {
          "output_type": "stream",
          "name": "stdout",
          "text": [
            "File exists\n"
          ]
        }
      ]
    },
    {
      "cell_type": "code",
      "source": [
        "file_path = Path(myfilePath)\n",
        "if file_path.exists():\n",
        "  print(\"Deleting the file...\")\n",
        "  file_path.unlink()\n",
        "  print(\"File deleted\")\n",
        "else:\n",
        "  print(\"File does not exist\")"
      ],
      "metadata": {
        "colab": {
          "base_uri": "https://localhost:8080/"
        },
        "id": "JO-yiGyRfNQw",
        "outputId": "9d41e200-78a3-4550-a544-7cbd5da58545"
      },
      "execution_count": null,
      "outputs": [
        {
          "output_type": "stream",
          "name": "stdout",
          "text": [
            "Deleting the file...\n",
            "File deleted\n"
          ]
        }
      ]
    },
    {
      "cell_type": "code",
      "source": [
        "from pathlib import Path\n",
        "file_path = Path(myfilePath)\n",
        "if file_path.exists():\n",
        "  print(\"File exists\")\n",
        "else:\n",
        "  print(\"File does not exist\")"
      ],
      "metadata": {
        "colab": {
          "base_uri": "https://localhost:8080/"
        },
        "id": "UQ6zFH3UfUB4",
        "outputId": "a2c74a55-541e-47cc-9052-915e6432187d"
      },
      "execution_count": null,
      "outputs": [
        {
          "output_type": "stream",
          "name": "stdout",
          "text": [
            "File does not exist\n"
          ]
        }
      ]
    }
  ]
}